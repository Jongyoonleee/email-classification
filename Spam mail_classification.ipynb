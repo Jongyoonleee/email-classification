{
 "cells": [
  {
   "cell_type": "code",
   "execution_count": null,
   "id": "2d2d2ed5-8ce0-4736-ac97-8622ed22e785",
   "metadata": {},
   "outputs": [],
   "source": []
  }
 ],
 "metadata": {
  "kernelspec": {
   "display_name": "",
   "name": ""
  },
  "language_info": {
   "name": ""
  }
 },
 "nbformat": 4,
 "nbformat_minor": 5
}
