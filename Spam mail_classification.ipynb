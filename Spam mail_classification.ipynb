{
 "cells": [
  {
   "cell_type": "markdown",
   "id": "b7546dc9-ef5d-47cb-a832-2e31efcaa6c9",
   "metadata": {},
   "source": [
    "## 1. import libraries"
   ]
  },
  {
   "cell_type": "code",
   "execution_count": 6,
   "id": "aebfeed5-6863-4617-9836-8ac0243617aa",
   "metadata": {},
   "outputs": [],
   "source": [
    "import pandas as pd\n",
    "from sklearn.model_selection import train_test_split\n",
    "from sklearn.feature_extraction.text import TfidfVectorizer\n",
    "from sklearn.naive_bayes import MultinomialNB\n",
    "from sklearn.metrics import classification_report, confusion_matrix\n"
   ]
  },
  {
   "cell_type": "markdown",
   "id": "d296f7e9-85d4-44a3-ab27-5c82a8675e02",
   "metadata": {},
   "source": [
    "## 2. Load the dataset"
   ]
  },
  {
   "cell_type": "code",
   "execution_count": 7,
   "id": "177e952a-399b-497b-ac50-1f185bc8eb20",
   "metadata": {},
   "outputs": [
    {
     "data": {
      "text/html": [
       "<div>\n",
       "<style scoped>\n",
       "    .dataframe tbody tr th:only-of-type {\n",
       "        vertical-align: middle;\n",
       "    }\n",
       "\n",
       "    .dataframe tbody tr th {\n",
       "        vertical-align: top;\n",
       "    }\n",
       "\n",
       "    .dataframe thead th {\n",
       "        text-align: right;\n",
       "    }\n",
       "</style>\n",
       "<table border=\"1\" class=\"dataframe\">\n",
       "  <thead>\n",
       "    <tr style=\"text-align: right;\">\n",
       "      <th></th>\n",
       "      <th>id</th>\n",
       "      <th>email</th>\n",
       "      <th>label</th>\n",
       "    </tr>\n",
       "  </thead>\n",
       "  <tbody>\n",
       "    <tr>\n",
       "      <th>0</th>\n",
       "      <td>2685</td>\n",
       "      <td>From: support@legitcompany.com\\nSubject: Regar...</td>\n",
       "      <td>ham</td>\n",
       "    </tr>\n",
       "    <tr>\n",
       "      <th>1</th>\n",
       "      <td>5857</td>\n",
       "      <td>From: noreply@softwareupdates.com\\nSubject: We...</td>\n",
       "      <td>ham</td>\n",
       "    </tr>\n",
       "    <tr>\n",
       "      <th>2</th>\n",
       "      <td>2399</td>\n",
       "      <td>From: noreply@softwareupdates.com\\nSubject: Im...</td>\n",
       "      <td>ham</td>\n",
       "    </tr>\n",
       "    <tr>\n",
       "      <th>3</th>\n",
       "      <td>3244</td>\n",
       "      <td>From: info@customerservice.co\\nSubject: Team S...</td>\n",
       "      <td>ham</td>\n",
       "    </tr>\n",
       "    <tr>\n",
       "      <th>4</th>\n",
       "      <td>2844</td>\n",
       "      <td>From: info@customerservice.co\\nSubject: Team S...</td>\n",
       "      <td>ham</td>\n",
       "    </tr>\n",
       "  </tbody>\n",
       "</table>\n",
       "</div>"
      ],
      "text/plain": [
       "     id                                              email label\n",
       "0  2685  From: support@legitcompany.com\\nSubject: Regar...   ham\n",
       "1  5857  From: noreply@softwareupdates.com\\nSubject: We...   ham\n",
       "2  2399  From: noreply@softwareupdates.com\\nSubject: Im...   ham\n",
       "3  3244  From: info@customerservice.co\\nSubject: Team S...   ham\n",
       "4  2844  From: info@customerservice.co\\nSubject: Team S...   ham"
      ]
     },
     "execution_count": 7,
     "metadata": {},
     "output_type": "execute_result"
    }
   ],
   "source": [
    "df = pd.read_csv(\"email_classification_dataset.csv\")\n",
    "df.head()"
   ]
  },
  {
   "cell_type": "markdown",
   "id": "e2bf27f3-aa2a-49d2-ae6e-019ffcf97c6c",
   "metadata": {},
   "source": [
    "## 3. Clean the Email Text"
   ]
  },
  {
   "cell_type": "code",
   "execution_count": 8,
   "id": "3915d7f9-a923-4f45-90b5-02fd792767f9",
   "metadata": {},
   "outputs": [
    {
     "data": {
      "text/html": [
       "<div>\n",
       "<style scoped>\n",
       "    .dataframe tbody tr th:only-of-type {\n",
       "        vertical-align: middle;\n",
       "    }\n",
       "\n",
       "    .dataframe tbody tr th {\n",
       "        vertical-align: top;\n",
       "    }\n",
       "\n",
       "    .dataframe thead th {\n",
       "        text-align: right;\n",
       "    }\n",
       "</style>\n",
       "<table border=\"1\" class=\"dataframe\">\n",
       "  <thead>\n",
       "    <tr style=\"text-align: right;\">\n",
       "      <th></th>\n",
       "      <th>email</th>\n",
       "      <th>clean_email</th>\n",
       "    </tr>\n",
       "  </thead>\n",
       "  <tbody>\n",
       "    <tr>\n",
       "      <th>0</th>\n",
       "      <td>From: support@legitcompany.com\\nSubject: Regar...</td>\n",
       "      <td>from supportlegitcompanycom subject regarding ...</td>\n",
       "    </tr>\n",
       "    <tr>\n",
       "      <th>1</th>\n",
       "      <td>From: noreply@softwareupdates.com\\nSubject: We...</td>\n",
       "      <td>from noreplysoftwareupdatescom subject weekly ...</td>\n",
       "    </tr>\n",
       "    <tr>\n",
       "      <th>2</th>\n",
       "      <td>From: noreply@softwareupdates.com\\nSubject: Im...</td>\n",
       "      <td>from noreplysoftwareupdatescom subject importa...</td>\n",
       "    </tr>\n",
       "    <tr>\n",
       "      <th>3</th>\n",
       "      <td>From: info@customerservice.co\\nSubject: Team S...</td>\n",
       "      <td>from infocustomerserviceco subject team standu...</td>\n",
       "    </tr>\n",
       "    <tr>\n",
       "      <th>4</th>\n",
       "      <td>From: info@customerservice.co\\nSubject: Team S...</td>\n",
       "      <td>from infocustomerserviceco subject team standu...</td>\n",
       "    </tr>\n",
       "  </tbody>\n",
       "</table>\n",
       "</div>"
      ],
      "text/plain": [
       "                                               email  \\\n",
       "0  From: support@legitcompany.com\\nSubject: Regar...   \n",
       "1  From: noreply@softwareupdates.com\\nSubject: We...   \n",
       "2  From: noreply@softwareupdates.com\\nSubject: Im...   \n",
       "3  From: info@customerservice.co\\nSubject: Team S...   \n",
       "4  From: info@customerservice.co\\nSubject: Team S...   \n",
       "\n",
       "                                         clean_email  \n",
       "0  from supportlegitcompanycom subject regarding ...  \n",
       "1  from noreplysoftwareupdatescom subject weekly ...  \n",
       "2  from noreplysoftwareupdatescom subject importa...  \n",
       "3  from infocustomerserviceco subject team standu...  \n",
       "4  from infocustomerserviceco subject team standu...  "
      ]
     },
     "execution_count": 8,
     "metadata": {},
     "output_type": "execute_result"
    }
   ],
   "source": [
    "import string\n",
    "import re\n",
    "\n",
    "def clean_text(text):\n",
    "    text = text.lower()  # Make texts lowercase\n",
    "    text = re.sub(r'\\s+', ' ', text)  # remove line breaks and extra spaces\n",
    "    text = text.translate(str.maketrans('', '', string.punctuation))  # remove punctuation\n",
    "    return text.strip()\n",
    "\n",
    "# Apply cleaning to the email text\n",
    "df['clean_email'] = df['email'].apply(clean_text)\n",
    "#Results\n",
    "df[['email', 'clean_email']].head()"
   ]
  },
  {
   "cell_type": "markdown",
   "id": "7128976b-b702-49b7-804c-20690a5b797c",
   "metadata": {},
   "source": []
  },
  {
   "cell_type": "code",
   "execution_count": null,
   "id": "481cf0fb-6929-43aa-8a12-eb584319c769",
   "metadata": {},
   "outputs": [],
   "source": []
  }
 ],
 "metadata": {
  "kernelspec": {
   "display_name": "Python 3 (ipykernel)",
   "language": "python",
   "name": "python3"
  },
  "language_info": {
   "codemirror_mode": {
    "name": "ipython",
    "version": 3
   },
   "file_extension": ".py",
   "mimetype": "text/x-python",
   "name": "python",
   "nbconvert_exporter": "python",
   "pygments_lexer": "ipython3",
   "version": "3.12.7"
  }
 },
 "nbformat": 4,
 "nbformat_minor": 5
}
