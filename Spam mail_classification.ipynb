{
 "cells": [
  {
   "cell_type": "markdown",
   "id": "b7546dc9-ef5d-47cb-a832-2e31efcaa6c9",
   "metadata": {},
   "source": [
    "## 1. import libraries"
   ]
  },
  {
   "cell_type": "code",
   "execution_count": 6,
   "id": "aebfeed5-6863-4617-9836-8ac0243617aa",
   "metadata": {},
   "outputs": [],
   "source": [
    "import pandas as pd\n",
    "from sklearn.model_selection import train_test_split\n",
    "from sklearn.feature_extraction.text import TfidfVectorizer\n",
    "from sklearn.naive_bayes import MultinomialNB\n",
    "from sklearn.metrics import classification_report, confusion_matrix\n"
   ]
  },
  {
   "cell_type": "markdown",
   "id": "d296f7e9-85d4-44a3-ab27-5c82a8675e02",
   "metadata": {},
   "source": [
    "## 2. Load dataset"
   ]
  },
  {
   "cell_type": "code",
   "execution_count": null,
   "id": "177e952a-399b-497b-ac50-1f185bc8eb20",
   "metadata": {},
   "outputs": [],
   "source": [
    "df = pd.read_csv(\"email_classification_dataset.csv\")\n",
    "df.head()"
   ]
  },
  {
   "cell_type": "code",
   "execution_count": null,
   "id": "7329a95c-9ba9-4977-86d4-a451a687b817",
   "metadata": {},
   "outputs": [],
   "source": []
  },
  {
   "cell_type": "code",
   "execution_count": null,
   "id": "3915d7f9-a923-4f45-90b5-02fd792767f9",
   "metadata": {},
   "outputs": [],
   "source": []
  },
  {
   "cell_type": "code",
   "execution_count": null,
   "id": "684355b3-d873-41da-8ab0-4bed29f3dc08",
   "metadata": {},
   "outputs": [],
   "source": []
  },
  {
   "cell_type": "code",
   "execution_count": null,
   "id": "e7829ce2-f6be-47c0-a20b-7a349bc83cb6",
   "metadata": {},
   "outputs": [],
   "source": []
  },
  {
   "cell_type": "code",
   "execution_count": null,
   "id": "481cf0fb-6929-43aa-8a12-eb584319c769",
   "metadata": {},
   "outputs": [],
   "source": []
  }
 ],
 "metadata": {
  "kernelspec": {
   "display_name": "Python 3 (ipykernel)",
   "language": "python",
   "name": "python3"
  },
  "language_info": {
   "codemirror_mode": {
    "name": "ipython",
    "version": 3
   },
   "file_extension": ".py",
   "mimetype": "text/x-python",
   "name": "python",
   "nbconvert_exporter": "python",
   "pygments_lexer": "ipython3",
   "version": "3.12.7"
  }
 },
 "nbformat": 4,
 "nbformat_minor": 5
}
